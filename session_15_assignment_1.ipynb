{
 "cells": [
  {
   "cell_type": "markdown",
   "metadata": {},
   "source": [
    "In this assignment, students will be using the K-nearest neighbors algorithm to predict\n",
    "how many points NBA players scored in the 2013-2014 season.\n",
    "\n",
    "A look at the data\n",
    "\n",
    "Before we dive into the algorithm, let’s take a look at our data. Each row in the data\n",
    "contains information on how a player performed in the 2013-2014 NBA season.\n",
    "\n",
    "Download 'nba_2013.csv' file from this link:\n",
    "https://www.dropbox.com/s/b3nv38jjo5dxcl6/nba_2013.csv?dl=0\n",
    "\n",
    "Here are some selected columns from the data:\n",
    "\n",
    "player - name of the player\n",
    "\n",
    "pos - the position of the player\n",
    "\n",
    "g - number of games the player was in\n",
    "\n",
    "gs - number of games the player started\n",
    "\n",
    "pts - total points the player scored\n",
    "\n",
    "There are many more columns in the data, mostly containing information about average\n",
    "player game performance over the course of the season. See this site for an explanation\n",
    "of the rest of them.\n",
    "We can read our dataset in and figure out which columns are present:\n",
    "\n"
   ]
  },
  {
   "cell_type": "code",
   "execution_count": 14,
   "metadata": {},
   "outputs": [
    {
     "name": "stdout",
     "output_type": "stream",
     "text": [
      "RMSE value for K= 1 is 93.50563324354239\n",
      "RMSE value for K= 2 is 92.08445336604946\n",
      "RMSE value for K= 3 is 87.23943798666912\n",
      "RMSE value for K= 4 is 83.35868953318338\n",
      "RMSE value for K= 5 is 79.84875012516929\n",
      "RMSE value for K= 6 is 80.53674942324675\n",
      "RMSE value for K= 7 is 80.21229572605384\n",
      "RMSE value for K= 8 is 81.5920327362573\n",
      "RMSE value for K= 9 is 82.57342566345551\n",
      "RMSE value for K= 10 is 81.97995339484336\n"
     ]
    }
   ],
   "source": [
    "#importing libraries\n",
    "\n",
    "import pandas \n",
    "import numpy as np\n",
    "from sklearn.preprocessing import Imputer\n",
    "from sklearn.cross_validation import train_test_split\n",
    "from sklearn.neighbors import KNeighborsRegressor\n",
    "from sklearn.metrics import mean_squared_error\n",
    "from math import sqrt\n",
    "import matplotlib.pyplot as plt\n",
    "\n",
    "# loading csv file\n",
    "with open('nba_2013.csv','r') as csvfile:\n",
    "    nba = pandas.read_csv(csvfile)\n",
    "    \n",
    "#droping umimportant columns    \n",
    "nba.drop(columns=['player','pos','bref_team_id','season','season_end'],axis=1,inplace=True)\n",
    "\n",
    "\n",
    "X=nba.iloc[:,0:25].values\n",
    "Y=nba.iloc[:,25].values\n",
    "\n",
    "#filling missing values\n",
    "imputer=Imputer(missing_values='NaN',strategy='mean',axis=0)\n",
    "X=imputer.fit_transform(X)\n",
    "\n",
    "#split data into training and test data\n",
    "X_train,X_test,Y_train,Y_test=train_test_split(X,Y,test_size=0.3,random_state=100)\n",
    "y_train=Y_train.ravel()\n",
    "y_test=Y_test.ravel()\n",
    "\n",
    "rmse_val=[] #to store rmse values for different K\n",
    "for K in range(10):\n",
    "    K_value=K+1\n",
    "    model=KNeighborsRegressor(n_neighbors=K_value,weights='uniform',algorithm='auto')\n",
    "    model.fit(X_train,y_train)\n",
    "    y_pred=model.predict(X_test)\n",
    "    error=sqrt(mean_squared_error(y_test,y_pred))\n",
    "    rmse_val.append(error)\n",
    "    print('RMSE value for K=',K_value,'is',error)"
   ]
  },
  {
   "cell_type": "code",
   "execution_count": 15,
   "metadata": {},
   "outputs": [
    {
     "data": {
      "image/png": "[encoded data removed]",
      "text/plain": [
       "<matplotlib.figure.Figure at 0x495c5d0>"
      ]
     },
     "metadata": {
      "needs_background": "light"
     },
     "output_type": "display_data"
    }
   ],
   "source": [
    " #ploting the rmse values against k values\n",
    "K=range(10)    \n",
    "plt.plot(K,rmse_val,'bx-')\n",
    "plt.xlabel('K')\n",
    "plt.ylabel('RMSE')\n",
    "plt.title('The elbow method showing the optimal k')\n",
    "plt.show()"
   ]
  },
  {
   "cell_type": "markdown",
   "metadata": {},
   "source": [
    "As we discussed,when we take K=1,we get a very high RMSE value .The RMSE value decreases as we increase k_value.\n",
    "we can safely say that k=4 will give us the best result inthis case"
   ]
  }
 ],
 "metadata": {
  "kernelspec": {
   "display_name": "Python 3",
   "language": "python",
   "name": "python3"
  },
  "language_info": {
   "codemirror_mode": {
    "name": "ipython",
    "version": 3
   },
   "file_extension": ".py",
   "mimetype": "text/x-python",
   "name": "python",
   "nbconvert_exporter": "python",
   "pygments_lexer": "ipython3",
   "version": "3.6.6"
  }
 },
 "nbformat": 4,
 "nbformat_minor": 2
}
